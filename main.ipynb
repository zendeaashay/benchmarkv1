{
 "cells": [
  {
   "cell_type": "code",
   "execution_count": 2,
   "id": "0d1bc86c",
   "metadata": {},
   "outputs": [],
   "source": [
    "import streamlit as st\n",
    "\n",
    "# Title of your web app\n",
    "st.title('Benchmarks App')\n",
    "\n",
    "# Write a message on your app\n",
    "st.write('Here you can see my Power BI visualizations and ML predictions.')"
   ]
  },
  {
   "cell_type": "code",
   "execution_count": 3,
   "id": "d4647958",
   "metadata": {},
   "outputs": [],
   "source": [
    "user_input = st.text_input('Enter a custom message:', 'Hello, Streamlit!')"
   ]
  },
  {
   "cell_type": "code",
   "execution_count": 4,
   "id": "90e88f22",
   "metadata": {},
   "outputs": [],
   "source": [
    "st.write('Customized Message:', user_input)"
   ]
  },
  {
   "cell_type": "code",
   "execution_count": null,
   "id": "fdfe7deb",
   "metadata": {},
   "outputs": [],
   "source": []
  }
 ],
 "metadata": {
  "kernelspec": {
   "display_name": "Python 3 (ipykernel)",
   "language": "python",
   "name": "python3"
  },
  "language_info": {
   "codemirror_mode": {
    "name": "ipython",
    "version": 3
   },
   "file_extension": ".py",
   "mimetype": "text/x-python",
   "name": "python",
   "nbconvert_exporter": "python",
   "pygments_lexer": "ipython3",
   "version": "3.11.5"
  }
 },
 "nbformat": 4,
 "nbformat_minor": 5
}
